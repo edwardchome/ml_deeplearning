{
  "nbformat": 4,
  "nbformat_minor": 0,
  "metadata": {
    "colab": {
      "name": "introducing_data_science.ipynb",
      "provenance": [],
      "authorship_tag": "ABX9TyOw14d/YXIp1NoKhdB3qRqi",
      "include_colab_link": true
    },
    "kernelspec": {
      "name": "python3",
      "display_name": "Python 3"
    },
    "language_info": {
      "name": "python"
    }
  },
  "cells": [
    {
      "cell_type": "markdown",
      "metadata": {
        "id": "view-in-github",
        "colab_type": "text"
      },
      "source": [
        "<a href=\"https://colab.research.google.com/github/edwardchome/ml_deeplearning/blob/main/introducing_data_science.ipynb\" target=\"_parent\"><img src=\"https://colab.research.google.com/assets/colab-badge.svg\" alt=\"Open In Colab\"/></a>"
      ]
    },
    {
      "cell_type": "code",
      "execution_count": null,
      "metadata": {
        "id": "ck8TleRv7MV7"
      },
      "outputs": [],
      "source": [
        "from sklearn.datasets import load_digits\n",
        "import pylab as pl\n",
        "\n",
        "digits = load_digits()"
      ]
    },
    {
      "cell_type": "code",
      "source": [
        "pl.gray()\n",
        "\n",
        "pl.matshow(digits.images[0])\n",
        "pl.show()\n",
        "digits.images[0]"
      ],
      "metadata": {
        "colab": {
          "base_uri": "https://localhost:8080/",
          "height": 431
        },
        "id": "dOnGt8so7udD",
        "outputId": "431be248-17a9-41a9-88bd-e9846929aeff"
      },
      "execution_count": null,
      "outputs": [
        {
          "output_type": "display_data",
          "data": {
            "text/plain": [
              "<Figure size 432x288 with 0 Axes>"
            ]
          },
          "metadata": {}
        },
        {
          "output_type": "display_data",
          "data": {
            "text/plain": [
              "<Figure size 288x288 with 1 Axes>"
            ],
            "image/png": "[encoded data removed]"
          },
          "metadata": {
            "needs_background": "light"
          }
        },
        {
          "output_type": "execute_result",
          "data": {
            "text/plain": [
              "array([[ 0.,  0.,  5., 13.,  9.,  1.,  0.,  0.],\n",
              "       [ 0.,  0., 13., 15., 10., 15.,  5.,  0.],\n",
              "       [ 0.,  3., 15.,  2.,  0., 11.,  8.,  0.],\n",
              "       [ 0.,  4., 12.,  0.,  0.,  8.,  8.,  0.],\n",
              "       [ 0.,  5.,  8.,  0.,  0.,  9.,  8.,  0.],\n",
              "       [ 0.,  4., 11.,  0.,  1., 12.,  7.,  0.],\n",
              "       [ 0.,  2., 14.,  5., 10., 12.,  0.,  0.],\n",
              "       [ 0.,  0.,  6., 13., 10.,  0.,  0.,  0.]])"
            ]
          },
          "metadata": {},
          "execution_count": 3
        }
      ]
    },
    {
      "cell_type": "code",
      "source": [
        "from sklearn.model_selection import train_test_split\n",
        "from sklearn.naive_bayes import GaussianNB\n",
        "from sklearn.metrics import confusion_matrix, accuracy_score"
      ],
      "metadata": {
        "id": "82PXyFBJ8QfD"
      },
      "execution_count": null,
      "outputs": []
    },
    {
      "cell_type": "code",
      "source": [
        "y = digits.target\n",
        "n_samples = len(digits.images)\n",
        "x = digits.images.reshape((n_samples, -1))"
      ],
      "metadata": {
        "id": "LVrZnq3i9Yha"
      },
      "execution_count": null,
      "outputs": []
    },
    {
      "cell_type": "code",
      "source": [
        "x.shape"
      ],
      "metadata": {
        "colab": {
          "base_uri": "https://localhost:8080/"
        },
        "id": "Pb5AZxWz9zRK",
        "outputId": "245886e9-e128-4085-b5d0-5f94817275c7"
      },
      "execution_count": null,
      "outputs": [
        {
          "output_type": "execute_result",
          "data": {
            "text/plain": [
              "(1797, 64)"
            ]
          },
          "metadata": {},
          "execution_count": 12
        }
      ]
    },
    {
      "cell_type": "code",
      "source": [
        "x_train, x_test, y_train, y_test = train_test_split(x,y,test_size=0.2,random_state=0)\n",
        "print(x_train.shape)\n",
        "print(x_test.shape)"
      ],
      "metadata": {
        "colab": {
          "base_uri": "https://localhost:8080/"
        },
        "id": "PfrONQcp-eMa",
        "outputId": "9a3ed14c-98ec-405c-9aef-674257a870f5"
      },
      "execution_count": null,
      "outputs": [
        {
          "output_type": "stream",
          "name": "stdout",
          "text": [
            "(1437, 64)\n",
            "(360, 64)\n"
          ]
        }
      ]
    },
    {
      "cell_type": "code",
      "source": [
        "gnb = GaussianNB()\n",
        "fit = gnb.fit(x_train,y_train)\n",
        "predicted = fit.predict(x_test)\n",
        "\n",
        "print(confusion_matrix(y_test,predicted))\n",
        "\n",
        "print(accuracy_score(y_test,predicted))"
      ],
      "metadata": {
        "colab": {
          "base_uri": "https://localhost:8080/"
        },
        "id": "JxSoQm0AA3Kb",
        "outputId": "e5eacda8-dbfc-490d-c50d-e8b6490f5247"
      },
      "execution_count": null,
      "outputs": [
        {
          "output_type": "stream",
          "name": "stdout",
          "text": [
            "[[27  0  0  0  0  0  0  0  0  0]\n",
            " [ 0 31  0  0  0  0  0  0  4  0]\n",
            " [ 0  7 17  0  0  0  0  0 12  0]\n",
            " [ 0  0  1 24  0  0  0  0  4  0]\n",
            " [ 0  1  0  0 22  0  0  7  0  0]\n",
            " [ 0  1  0  0  0 35  0  3  0  1]\n",
            " [ 0  0  0  0  0  0 44  0  0  0]\n",
            " [ 0  0  0  0  0  0  0 39  0  0]\n",
            " [ 0  5  0  0  0  1  0  1 32  0]\n",
            " [ 0  2  0  3  0  0  0  3  7 26]]\n",
            "0.825\n"
          ]
        }
      ]
    },
    {
      "cell_type": "code",
      "source": [
        "images_and_predictions = list(zip(digits.images,fit.predict(x)))\n",
        "\n",
        "for index, (image,prediction) in enumerate(images_and_predictions[:6]):\n",
        " pl.subplot(6, 3, index +5)\n",
        " pl.axis('off')\n",
        " pl.imshow(image,cmap=pl.cm.gray_r, interpolation='nearest')\n",
        " pl.title('Prediction %i' % prediction)\n",
        " pl.show()\n"
      ],
      "metadata": {
        "id": "HMr_prUdCAe5"
      },
      "execution_count": null,
      "outputs": []
    },
    {
      "cell_type": "markdown",
      "source": [
        "**Listing 3.5 Data acquisition and variable standardization**"
      ],
      "metadata": {
        "id": "QtZxjo8OSQQB"
      }
    },
    {
      "cell_type": "code",
      "source": [
        "import pandas as pd\n",
        "from sklearn import preprocessing\n",
        "from sklearn.decomposition import PCA\n",
        "import pylab as plt"
      ],
      "metadata": {
        "id": "p3ZoqFZOSVCS"
      },
      "execution_count": null,
      "outputs": []
    },
    {
      "cell_type": "code",
      "source": [
        "url = 'http://archive.ics.uci.edu/ml/machine-learning-databases/wine-quality/winequality-red.csv'\n",
        "data = pd.read_csv(url, sep=\";\")\n",
        "\n",
        "X = data[[u'fixed acidity', u'volatile acidity', u'citric acid',\n",
        "u'residual sugar', u'chlorides', u'free sulfur dioxide',\n",
        "u'total sulfur dioxide', u'density', u'pH', u'sulphates',\n",
        "u'alcohol']]\n",
        "\n",
        "y = data.quality\n",
        "\n",
        "X= preprocessing.StandardScaler().fit(X).transform(X)\n",
        "#data.head()"
      ],
      "metadata": {
        "id": "9RUMPSo9S5eF"
      },
      "execution_count": null,
      "outputs": []
    },
    {
      "cell_type": "code",
      "source": [
        "model = PCA()\n",
        "results = model.fit(X)\n",
        "z = results.transform(X)\n",
        "\n",
        "plt.plot(results.explained_variance_)\n",
        "plt.show()"
      ],
      "metadata": {
        "colab": {
          "base_uri": "https://localhost:8080/",
          "height": 265
        },
        "id": "g8eV7Y5aUGaR",
        "outputId": "61604fd9-d34f-4f54-c3f8-42b93a45ba5f"
      },
      "execution_count": null,
      "outputs": [
        {
          "output_type": "display_data",
          "data": {
            "text/plain": [
              "<Figure size 432x288 with 1 Axes>"
            ],
            "image/png": "[encoded data removed]"
          },
          "metadata": {
            "needs_background": "light"
          }
        }
      ]
    },
    {
      "cell_type": "code",
      "source": [
        "pd.DataFrame(results.components_,columns=list([u'fixed acidity', u'volatile acidity', u'citric acid',\n",
        "u'residual sugar', u'chlorides', u'free sulfur dioxide',\n",
        "u'total sulfur dioxide', u'density', u'pH', u'sulphates',\n",
        "u'alcohol']))"
      ],
      "metadata": {
        "colab": {
          "base_uri": "https://localhost:8080/",
          "height": 493
        },
        "id": "coBLlu06U6GZ",
        "outputId": "115e5faf-1fb5-435c-c001-81a0d14f9ab4"
      },
      "execution_count": null,
      "outputs": [
        {
          "output_type": "execute_result",
          "data": {
            "text/plain": [
              "    fixed acidity  volatile acidity  citric acid  residual sugar  chlorides  \\\n",
              "0        0.489314         -0.238584     0.463632        0.146107   0.212247   \n",
              "1       -0.110503          0.274930    -0.151791        0.272080   0.148052   \n",
              "2       -0.123302         -0.449963     0.238247        0.101283  -0.092614   \n",
              "3       -0.229617          0.078960    -0.079418       -0.372793   0.666195   \n",
              "4       -0.082614          0.218735    -0.058573        0.732144   0.246501   \n",
              "5        0.101479          0.411449     0.069593        0.049156   0.304339   \n",
              "6       -0.350227         -0.533735     0.105497        0.290663   0.370413   \n",
              "7       -0.177595         -0.078775    -0.377516        0.299845  -0.357009   \n",
              "8       -0.194021          0.129110     0.381450       -0.007523  -0.111339   \n",
              "9       -0.249523          0.365925     0.621677        0.092872  -0.217671   \n",
              "10       0.639691          0.002389    -0.070910        0.184030   0.053065   \n",
              "\n",
              "    free sulfur dioxide  total sulfur dioxide   density        pH  sulphates  \\\n",
              "0             -0.036158              0.023575  0.395353 -0.438520   0.242921   \n",
              "1              0.513567              0.569487  0.233575  0.006711  -0.037554   \n",
              "2              0.428793              0.322415 -0.338871  0.057697   0.279786   \n",
              "3             -0.043538             -0.034577 -0.174500 -0.003788   0.550872   \n",
              "4             -0.159152             -0.222465  0.157077  0.267530   0.225962   \n",
              "5             -0.014000              0.136308 -0.391152 -0.522116  -0.381263   \n",
              "6             -0.116596             -0.093662 -0.170481 -0.025138  -0.447469   \n",
              "7             -0.204781              0.019036 -0.239223 -0.561391   0.374604   \n",
              "8             -0.635405              0.592116 -0.020719  0.167746   0.058367   \n",
              "9              0.248483             -0.370750 -0.239990 -0.010970   0.112320   \n",
              "10            -0.051421              0.068702 -0.567332  0.340711   0.069555   \n",
              "\n",
              "     alcohol  \n",
              "0  -0.113232  \n",
              "1  -0.386181  \n",
              "2   0.471673  \n",
              "3  -0.122181  \n",
              "4   0.350681  \n",
              "5   0.361645  \n",
              "6  -0.327651  \n",
              "7  -0.217626  \n",
              "8  -0.037603  \n",
              "9  -0.303015  \n",
              "10 -0.314526  "
            ],
            "text/html": [
              "\n",
              "  <div id=\"df-1390b242-463a-4fa8-9433-eaa12cab7250\">\n",
              "    <div class=\"colab-df-container\">\n",
              "      <div>\n",
              "<style scoped>\n",
              "    .dataframe tbody tr th:only-of-type {\n",
              "        vertical-align: middle;\n",
              "    }\n",
              "\n",
              "    .dataframe tbody tr th {\n",
              "        vertical-align: top;\n",
              "    }\n",
              "\n",
              "    .dataframe thead th {\n",
              "        text-align: right;\n",
              "    }\n",
              "</style>\n",
              "<table border=\"1\" class=\"dataframe\">\n",
              "  <thead>\n",
              "    <tr style=\"text-align: right;\">\n",
              "      <th></th>\n",
              "      <th>fixed acidity</th>\n",
              "      <th>volatile acidity</th>\n",
              "      <th>citric acid</th>\n",
              "      <th>residual sugar</th>\n",
              "      <th>chlorides</th>\n",
              "      <th>free sulfur dioxide</th>\n",
              "      <th>total sulfur dioxide</th>\n",
              "      <th>density</th>\n",
              "      <th>pH</th>\n",
              "      <th>sulphates</th>\n",
              "      <th>alcohol</th>\n",
              "    </tr>\n",
              "  </thead>\n",
              "  <tbody>\n",
              "    <tr>\n",
              "      <th>0</th>\n",
              "      <td>0.489314</td>\n",
              "      <td>-0.238584</td>\n",
              "      <td>0.463632</td>\n",
              "      <td>0.146107</td>\n",
              "      <td>0.212247</td>\n",
              "      <td>-0.036158</td>\n",
              "      <td>0.023575</td>\n",
              "      <td>0.395353</td>\n",
              "      <td>-0.438520</td>\n",
              "      <td>0.242921</td>\n",
              "      <td>-0.113232</td>\n",
              "    </tr>\n",
              "    <tr>\n",
              "      <th>1</th>\n",
              "      <td>-0.110503</td>\n",
              "      <td>0.274930</td>\n",
              "      <td>-0.151791</td>\n",
              "      <td>0.272080</td>\n",
              "      <td>0.148052</td>\n",
              "      <td>0.513567</td>\n",
              "      <td>0.569487</td>\n",
              "      <td>0.233575</td>\n",
              "      <td>0.006711</td>\n",
              "      <td>-0.037554</td>\n",
              "      <td>-0.386181</td>\n",
              "    </tr>\n",
              "    <tr>\n",
              "      <th>2</th>\n",
              "      <td>-0.123302</td>\n",
              "      <td>-0.449963</td>\n",
              "      <td>0.238247</td>\n",
              "      <td>0.101283</td>\n",
              "      <td>-0.092614</td>\n",
              "      <td>0.428793</td>\n",
              "      <td>0.322415</td>\n",
              "      <td>-0.338871</td>\n",
              "      <td>0.057697</td>\n",
              "      <td>0.279786</td>\n",
              "      <td>0.471673</td>\n",
              "    </tr>\n",
              "    <tr>\n",
              "      <th>3</th>\n",
              "      <td>-0.229617</td>\n",
              "      <td>0.078960</td>\n",
              "      <td>-0.079418</td>\n",
              "      <td>-0.372793</td>\n",
              "      <td>0.666195</td>\n",
              "      <td>-0.043538</td>\n",
              "      <td>-0.034577</td>\n",
              "      <td>-0.174500</td>\n",
              "      <td>-0.003788</td>\n",
              "      <td>0.550872</td>\n",
              "      <td>-0.122181</td>\n",
              "    </tr>\n",
              "    <tr>\n",
              "      <th>4</th>\n",
              "      <td>-0.082614</td>\n",
              "      <td>0.218735</td>\n",
              "      <td>-0.058573</td>\n",
              "      <td>0.732144</td>\n",
              "      <td>0.246501</td>\n",
              "      <td>-0.159152</td>\n",
              "      <td>-0.222465</td>\n",
              "      <td>0.157077</td>\n",
              "      <td>0.267530</td>\n",
              "      <td>0.225962</td>\n",
              "      <td>0.350681</td>\n",
              "    </tr>\n",
              "    <tr>\n",
              "      <th>5</th>\n",
              "      <td>0.101479</td>\n",
              "      <td>0.411449</td>\n",
              "      <td>0.069593</td>\n",
              "      <td>0.049156</td>\n",
              "      <td>0.304339</td>\n",
              "      <td>-0.014000</td>\n",
              "      <td>0.136308</td>\n",
              "      <td>-0.391152</td>\n",
              "      <td>-0.522116</td>\n",
              "      <td>-0.381263</td>\n",
              "      <td>0.361645</td>\n",
              "    </tr>\n",
              "    <tr>\n",
              "      <th>6</th>\n",
              "      <td>-0.350227</td>\n",
              "      <td>-0.533735</td>\n",
              "      <td>0.105497</td>\n",
              "      <td>0.290663</td>\n",
              "      <td>0.370413</td>\n",
              "      <td>-0.116596</td>\n",
              "      <td>-0.093662</td>\n",
              "      <td>-0.170481</td>\n",
              "      <td>-0.025138</td>\n",
              "      <td>-0.447469</td>\n",
              "      <td>-0.327651</td>\n",
              "    </tr>\n",
              "    <tr>\n",
              "      <th>7</th>\n",
              "      <td>-0.177595</td>\n",
              "      <td>-0.078775</td>\n",
              "      <td>-0.377516</td>\n",
              "      <td>0.299845</td>\n",
              "      <td>-0.357009</td>\n",
              "      <td>-0.204781</td>\n",
              "      <td>0.019036</td>\n",
              "      <td>-0.239223</td>\n",
              "      <td>-0.561391</td>\n",
              "      <td>0.374604</td>\n",
              "      <td>-0.217626</td>\n",
              "    </tr>\n",
              "    <tr>\n",
              "      <th>8</th>\n",
              "      <td>-0.194021</td>\n",
              "      <td>0.129110</td>\n",
              "      <td>0.381450</td>\n",
              "      <td>-0.007523</td>\n",
              "      <td>-0.111339</td>\n",
              "      <td>-0.635405</td>\n",
              "      <td>0.592116</td>\n",
              "      <td>-0.020719</td>\n",
              "      <td>0.167746</td>\n",
              "      <td>0.058367</td>\n",
              "      <td>-0.037603</td>\n",
              "    </tr>\n",
              "    <tr>\n",
              "      <th>9</th>\n",
              "      <td>-0.249523</td>\n",
              "      <td>0.365925</td>\n",
              "      <td>0.621677</td>\n",
              "      <td>0.092872</td>\n",
              "      <td>-0.217671</td>\n",
              "      <td>0.248483</td>\n",
              "      <td>-0.370750</td>\n",
              "      <td>-0.239990</td>\n",
              "      <td>-0.010970</td>\n",
              "      <td>0.112320</td>\n",
              "      <td>-0.303015</td>\n",
              "    </tr>\n",
              "    <tr>\n",
              "      <th>10</th>\n",
              "      <td>0.639691</td>\n",
              "      <td>0.002389</td>\n",
              "      <td>-0.070910</td>\n",
              "      <td>0.184030</td>\n",
              "      <td>0.053065</td>\n",
              "      <td>-0.051421</td>\n",
              "      <td>0.068702</td>\n",
              "      <td>-0.567332</td>\n",
              "      <td>0.340711</td>\n",
              "      <td>0.069555</td>\n",
              "      <td>-0.314526</td>\n",
              "    </tr>\n",
              "  </tbody>\n",
              "</table>\n",
              "</div>\n",
              "      <button class=\"colab-df-convert\" onclick=\"convertToInteractive('df-1390b242-463a-4fa8-9433-eaa12cab7250')\"\n",
              "              title=\"Convert this dataframe to an interactive table.\"\n",
              "              style=\"display:none;\">\n",
              "        \n",
              "  <svg xmlns=\"http://www.w3.org/2000/svg\" height=\"24px\"viewBox=\"0 0 24 24\"\n",
              "       width=\"24px\">\n",
              "    <path d=\"M0 0h24v24H0V0z\" fill=\"none\"/>\n",
              "    <path d=\"M18.56 5.44l.94 2.06.94-2.06 2.06-.94-2.06-.94-.94-2.06-.94 2.06-2.06.94zm-11 1L8.5 8.5l.94-2.06 2.06-.94-2.06-.94L8.5 2.5l-.94 2.06-2.06.94zm10 10l.94 2.06.94-2.06 2.06-.94-2.06-.94-.94-2.06-.94 2.06-2.06.94z\"/><path d=\"M17.41 7.96l-1.37-1.37c-.4-.4-.92-.59-1.43-.59-.52 0-1.04.2-1.43.59L10.3 9.45l-7.72 7.72c-.78.78-.78 2.05 0 2.83L4 21.41c.39.39.9.59 1.41.59.51 0 1.02-.2 1.41-.59l7.78-7.78 2.81-2.81c.8-.78.8-2.07 0-2.86zM5.41 20L4 18.59l7.72-7.72 1.47 1.35L5.41 20z\"/>\n",
              "  </svg>\n",
              "      </button>\n",
              "      \n",
              "  <style>\n",
              "    .colab-df-container {\n",
              "      display:flex;\n",
              "      flex-wrap:wrap;\n",
              "      gap: 12px;\n",
              "    }\n",
              "\n",
              "    .colab-df-convert {\n",
              "      background-color: #E8F0FE;\n",
              "      border: none;\n",
              "      border-radius: 50%;\n",
              "      cursor: pointer;\n",
              "      display: none;\n",
              "      fill: #1967D2;\n",
              "      height: 32px;\n",
              "      padding: 0 0 0 0;\n",
              "      width: 32px;\n",
              "    }\n",
              "\n",
              "    .colab-df-convert:hover {\n",
              "      background-color: #E2EBFA;\n",
              "      box-shadow: 0px 1px 2px rgba(60, 64, 67, 0.3), 0px 1px 3px 1px rgba(60, 64, 67, 0.15);\n",
              "      fill: #174EA6;\n",
              "    }\n",
              "\n",
              "    [theme=dark] .colab-df-convert {\n",
              "      background-color: #3B4455;\n",
              "      fill: #D2E3FC;\n",
              "    }\n",
              "\n",
              "    [theme=dark] .colab-df-convert:hover {\n",
              "      background-color: #434B5C;\n",
              "      box-shadow: 0px 1px 3px 1px rgba(0, 0, 0, 0.15);\n",
              "      filter: drop-shadow(0px 1px 2px rgba(0, 0, 0, 0.3));\n",
              "      fill: #FFFFFF;\n",
              "    }\n",
              "  </style>\n",
              "\n",
              "      <script>\n",
              "        const buttonEl =\n",
              "          document.querySelector('#df-1390b242-463a-4fa8-9433-eaa12cab7250 button.colab-df-convert');\n",
              "        buttonEl.style.display =\n",
              "          google.colab.kernel.accessAllowed ? 'block' : 'none';\n",
              "\n",
              "        async function convertToInteractive(key) {\n",
              "          const element = document.querySelector('#df-1390b242-463a-4fa8-9433-eaa12cab7250');\n",
              "          const dataTable =\n",
              "            await google.colab.kernel.invokeFunction('convertToInteractive',\n",
              "                                                     [key], {});\n",
              "          if (!dataTable) return;\n",
              "\n",
              "          const docLinkHtml = 'Like what you see? Visit the ' +\n",
              "            '<a target=\"_blank\" href=https://colab.research.google.com/notebooks/data_table.ipynb>data table notebook</a>'\n",
              "            + ' to learn more about interactive tables.';\n",
              "          element.innerHTML = '';\n",
              "          dataTable['output_type'] = 'display_data';\n",
              "          await google.colab.output.renderOutput(dataTable, element);\n",
              "          const docLink = document.createElement('div');\n",
              "          docLink.innerHTML = docLinkHtml;\n",
              "          element.appendChild(docLink);\n",
              "        }\n",
              "      </script>\n",
              "    </div>\n",
              "  </div>\n",
              "  "
            ]
          },
          "metadata": {},
          "execution_count": 32
        }
      ]
    },
    {
      "cell_type": "code",
      "source": [
        ""
      ],
      "metadata": {
        "id": "A1ZuZBlOXKrt"
      },
      "execution_count": null,
      "outputs": []
    },
    {
      "cell_type": "markdown",
      "source": [
        "**Wine score prediction before principal component analysis**"
      ],
      "metadata": {
        "id": "KtlBiYcoXPtU"
      }
    },
    {
      "cell_type": "code",
      "source": [
        "from sklearn.model_selection import train_test_split\n",
        "from sklearn.naive_bayes import GaussianNB\n",
        "from sklearn.metrics import confusion_matrix, accuracy_score\n",
        "import pylab as plt\n",
        "\n",
        "gnb = GaussianNB()\n",
        "fit = gnb.fit(X,y)\n",
        "pred = fit.predict(X)\n",
        "print(confusion_matrix(pred,y))\n",
        "print(confusion_matrix(pred,y).trace())"
      ],
      "metadata": {
        "colab": {
          "base_uri": "https://localhost:8080/"
        },
        "id": "QbG3w8j7VlMy",
        "outputId": "ea01a44c-5669-4596-f92c-c4edd1b18bad"
      },
      "execution_count": null,
      "outputs": [
        {
          "output_type": "stream",
          "name": "stdout",
          "text": [
            "[[  3   1   4   0   0   0]\n",
            " [  2   8  26  19   1   0]\n",
            " [  4  29 456 185  12   0]\n",
            " [  1  13 171 318  74   5]\n",
            " [  0   1  24 111 110  11]\n",
            " [  0   1   0   5   2   2]]\n",
            "897\n"
          ]
        }
      ]
    },
    {
      "cell_type": "markdown",
      "source": [
        "**Wine score prediction with increasing number of principal components**"
      ],
      "metadata": {
        "id": "LfuXicYZXSxf"
      }
    },
    {
      "cell_type": "code",
      "source": [
        "predicted_correct = []\n",
        "\n",
        "for i in range(1,10):\n",
        "  model = PCA(n_components = i)\n",
        "  results = model.fit(X)\n",
        "  z = results.transform(X)\n",
        "  fit = gnb.fit(z,y)\n",
        "  pred = fit.predict(z)\n",
        "  predicted_correct.append(confusion_matrix(pred,y).trace())\n",
        "  print(predicted_correct)\n",
        "\n",
        "plt.plot(predicted_correct)\n",
        "plt.show()\n",
        "print(\"The results plot shows that adding more latent variables to \"\n",
        "+ \"a model (x-axis) greatly increases predictive power (y-axis) up to a \"\n",
        "+\"point but then tails off. The gain in predictive power from adding\"\n",
        "+\" variables wears off eventually.\")"
      ],
      "metadata": {
        "colab": {
          "base_uri": "https://localhost:8080/",
          "height": 459
        },
        "id": "grS8T9JAXFQ6",
        "outputId": "1b454aec-d321-42bd-dbf0-3a375adc6c91"
      },
      "execution_count": null,
      "outputs": [
        {
          "output_type": "stream",
          "name": "stdout",
          "text": [
            "[712]\n",
            "[712, 816]\n",
            "[712, 816, 903]\n",
            "[712, 816, 903, 893]\n",
            "[712, 816, 903, 893, 904]\n",
            "[712, 816, 903, 893, 904, 920]\n",
            "[712, 816, 903, 893, 904, 920, 930]\n",
            "[712, 816, 903, 893, 904, 920, 930, 927]\n",
            "[712, 816, 903, 893, 904, 920, 930, 927, 937]\n"
          ]
        },
        {
          "output_type": "display_data",
          "data": {
            "text/plain": [
              "<Figure size 432x288 with 1 Axes>"
            ],
            "image/png": "[encoded data removed]"
          },
          "metadata": {
            "needs_background": "light"
          }
        },
        {
          "output_type": "stream",
          "name": "stdout",
          "text": [
            "The results plot shows that adding more latent variables to a model (x-axis) greatly increases predictive power (y-axis) up to a point but then tails off. The gain in predictive power from adding variables wears off eventually.\n"
          ]
        }
      ]
    }
  ]
}