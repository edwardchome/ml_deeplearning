{
  "nbformat": 4,
  "nbformat_minor": 0,
  "metadata": {
    "colab": {
      "name": "Data_science_boot_camp_01.ipynb",
      "provenance": [],
      "authorship_tag": "ABX9TyNI/09tilo2Mqryqh+AhZbv",
      "include_colab_link": true
    },
    "kernelspec": {
      "name": "python3",
      "display_name": "Python 3"
    },
    "language_info": {
      "name": "python"
    }
  },
  "cells": [
    {
      "cell_type": "markdown",
      "metadata": {
        "id": "view-in-github",
        "colab_type": "text"
      },
      "source": [
        "<a href=\"https://colab.research.google.com/github/edwardchome/ml_deeplearning/blob/main/Data_science_boot_camp_01.ipynb\" target=\"_parent\"><img src=\"https://colab.research.google.com/assets/colab-badge.svg\" alt=\"Open In Colab\"/></a>"
      ]
    },
    {
      "cell_type": "markdown",
      "source": [
        "**Casestudy 1**"
      ],
      "metadata": {
        "id": "-DoeKULqVIxB"
      }
    },
    {
      "cell_type": "code",
      "source": [
        "sample_space = {'Heads', 'Tails'}\n",
        "\n",
        "probability_heads = 1 / len(sample_space)\n",
        "print(f'Probability of choosing heads is {probability_heads}')"
      ],
      "metadata": {
        "colab": {
          "base_uri": "https://localhost:8080/"
        },
        "id": "sN43VMHxZFPu",
        "outputId": "e4627c87-5d70-480b-fec6-44fcec734dcd"
      },
      "execution_count": 4,
      "outputs": [
        {
          "output_type": "stream",
          "name": "stdout",
          "text": [
            "Probability of choosing heads is 0.5\n"
          ]
        }
      ]
    },
    {
      "cell_type": "code",
      "execution_count": 5,
      "metadata": {
        "id": "2a06QOe1VCMj"
      },
      "outputs": [],
      "source": [
        "def is_heads_or_tails(outcome): \n",
        "  return outcome in {'Heads', 'Tails'}\n",
        "\n",
        "def is_neither(outcome): \n",
        "  return not is_heads_or_tails(outcome)\n",
        "\n",
        "def is_heads(outcome): \n",
        "  return outcome == 'Heads'\n",
        "\n",
        "def is_tails(outcome): \n",
        "  return outcome == 'Tails'"
      ]
    },
    {
      "cell_type": "code",
      "source": [
        "def get_matching_event(event_condition, sample_space):\n",
        "  return set([outcome for outcome in sample_space if event_condition(outcome)])"
      ],
      "metadata": {
        "id": "sX920k0VWDCr"
      },
      "execution_count": 6,
      "outputs": []
    },
    {
      "cell_type": "code",
      "source": [
        "event_conditions = [is_heads_or_tails, is_heads, is_tails, is_neither]\n",
        "\n",
        "for event_condition in event_conditions:\n",
        "  print(f\"Event Condition: {event_condition.__name__}\")\n",
        "  event = get_matching_event(event_condition, sample_space)\n",
        "  print(f'Event: {event}\\n')"
      ],
      "metadata": {
        "colab": {
          "base_uri": "https://localhost:8080/"
        },
        "id": "B0xkdq4ZX7uC",
        "outputId": "b35ecdd0-8d24-4fc4-b07c-665d46bf0327"
      },
      "execution_count": 9,
      "outputs": [
        {
          "output_type": "stream",
          "name": "stdout",
          "text": [
            "Event Condition: is_heads_or_tails\n",
            "Event: {'Tails', 'Heads'}\n",
            "\n",
            "Event Condition: is_heads\n",
            "Event: {'Heads'}\n",
            "\n",
            "Event Condition: is_tails\n",
            "Event: {'Tails'}\n",
            "\n",
            "Event Condition: is_neither\n",
            "Event: set()\n",
            "\n"
          ]
        }
      ]
    },
    {
      "cell_type": "code",
      "source": [
        "def compute_probability(event_condition, generic_sample_space):\n",
        "  event = get_matching_event(event_condition, generic_sample_space)\n",
        "  return len(event) / len(generic_sample_space)"
      ],
      "metadata": {
        "id": "oLIsZfg7bnxE"
      },
      "execution_count": 10,
      "outputs": []
    },
    {
      "cell_type": "code",
      "source": [
        "for event_condition in event_conditions:\n",
        "  prob = compute_probability(event_condition, sample_space)\n",
        "  name = event_condition.__name__\n",
        "  print(f\"Probability of event arising from '{name}' is {prob}\")"
      ],
      "metadata": {
        "colab": {
          "base_uri": "https://localhost:8080/"
        },
        "id": "KVVwyNMWbvGc",
        "outputId": "d62ab8db-8141-448b-e408-12f29ad1dadf"
      },
      "execution_count": 11,
      "outputs": [
        {
          "output_type": "stream",
          "name": "stdout",
          "text": [
            "Probability of event arising from 'is_heads_or_tails' is 1.0\n",
            "Probability of event arising from 'is_heads' is 0.5\n",
            "Probability of event arising from 'is_tails' is 0.5\n",
            "Probability of event arising from 'is_neither' is 0.0\n"
          ]
        }
      ]
    },
    {
      "cell_type": "markdown",
      "source": [
        "**Analyzing a biased coin**"
      ],
      "metadata": {
        "id": "HE-HFvpBg47H"
      }
    },
    {
      "cell_type": "code",
      "source": [
        "weighted_sample_space = {'Heads': 4, 'Tails': 1}\n",
        "\n",
        "sample_space_size = sum(weighted_sample_space.values())\n",
        "#assert sample_space_size == 5"
      ],
      "metadata": {
        "id": "UFhMzE4sg61X"
      },
      "execution_count": 14,
      "outputs": []
    },
    {
      "cell_type": "code",
      "source": [
        "event = get_matching_event(is_heads_or_tails, weighted_sample_space)\n",
        "event_size = sum(weighted_sample_space[outcome] for outcome in event)"
      ],
      "metadata": {
        "id": "7zK-Ap7zhQYh"
      },
      "execution_count": 15,
      "outputs": []
    },
    {
      "cell_type": "code",
      "source": [
        "def compute_event_probability(event_condition, generic_sample_space):\n",
        "  event = get_matching_event(event_condition, generic_sample_space)\n",
        "  \n",
        "  if type(generic_sample_space) == type(set()):\n",
        "    return len(event) / len(generic_sample_space)\n",
        "  event_size = sum(generic_sample_space[outcome]  for outcome in event)\n",
        "\n",
        "  return event_size / sum(generic_sample_space.values())"
      ],
      "metadata": {
        "id": "7X2hVbIEhtjO"
      },
      "execution_count": 17,
      "outputs": []
    },
    {
      "cell_type": "code",
      "source": [
        "for event_condition in event_conditions:\n",
        "  prob = compute_event_probability(event_condition, weighted_sample_space)\n",
        "  name = event_condition.__name__\n",
        "  print(f\"Probability of event arising from '{name}' is {prob}\")"
      ],
      "metadata": {
        "colab": {
          "base_uri": "https://localhost:8080/"
        },
        "id": "tI--bhT4j_eA",
        "outputId": "dfd5087e-9036-4fb5-9efb-ed1e3f58e468"
      },
      "execution_count": 18,
      "outputs": [
        {
          "output_type": "stream",
          "name": "stdout",
          "text": [
            "Probability of event arising from 'is_heads_or_tails' is 1.0\n",
            "Probability of event arising from 'is_heads' is 0.8\n",
            "Probability of event arising from 'is_tails' is 0.2\n",
            "Probability of event arising from 'is_neither' is 0.0\n"
          ]
        }
      ]
    },
    {
      "cell_type": "markdown",
      "source": [
        "**Problem 1: Analyzing a family with four children**\n",
        "\n",
        "Suppose a family has four children. What is the probability that exactly two of the children\n",
        "are boys? We’ll assume that each child is equally likely to be either a boy or a girl."
      ],
      "metadata": {
        "id": "Vq7CjcIUkyun"
      }
    },
    {
      "cell_type": "code",
      "source": [
        "possible_children = ['Boy', 'Girl']\n",
        "sample_space = set()\n",
        "for child1 in possible_children:\n",
        "  for child2 in possible_children:\n",
        "    for child3 in possible_children:\n",
        "      for child4 in possible_children:\n",
        "        outcome = (child1, child2, child3, child4)\n",
        "        sample_space.add(outcome)\n",
        "\n",
        "print(sample_space)"
      ],
      "metadata": {
        "id": "wiNyPCw9k09n"
      },
      "execution_count": null,
      "outputs": []
    },
    {
      "cell_type": "markdown",
      "source": [
        "more efficeint code using itertools"
      ],
      "metadata": {
        "id": "xSjzVnYUl2po"
      }
    },
    {
      "cell_type": "code",
      "source": [
        "from itertools import product\n",
        "\n",
        "possible_children = ['Boy', 'Girl']\n",
        "\n",
        "all_combinations = product(*(4 * [possible_children]))\n",
        "#assert set(all_combinations) == sample_space\n",
        "\n",
        "for com in all_combinations:\n",
        "  print(com)"
      ],
      "metadata": {
        "colab": {
          "base_uri": "https://localhost:8080/"
        },
        "id": "bLBnXXjnl6xu",
        "outputId": "547893c2-5d2c-4741-d222-432538a61267"
      },
      "execution_count": 22,
      "outputs": [
        {
          "output_type": "stream",
          "name": "stdout",
          "text": [
            "('Boy', 'Boy', 'Boy', 'Boy')\n",
            "('Boy', 'Boy', 'Boy', 'Girl')\n",
            "('Boy', 'Boy', 'Girl', 'Boy')\n",
            "('Boy', 'Boy', 'Girl', 'Girl')\n",
            "('Boy', 'Girl', 'Boy', 'Boy')\n",
            "('Boy', 'Girl', 'Boy', 'Girl')\n",
            "('Boy', 'Girl', 'Girl', 'Boy')\n",
            "('Boy', 'Girl', 'Girl', 'Girl')\n",
            "('Girl', 'Boy', 'Boy', 'Boy')\n",
            "('Girl', 'Boy', 'Boy', 'Girl')\n",
            "('Girl', 'Boy', 'Girl', 'Boy')\n",
            "('Girl', 'Boy', 'Girl', 'Girl')\n",
            "('Girl', 'Girl', 'Boy', 'Boy')\n",
            "('Girl', 'Girl', 'Boy', 'Girl')\n",
            "('Girl', 'Girl', 'Girl', 'Boy')\n",
            "('Girl', 'Girl', 'Girl', 'Girl')\n"
          ]
        }
      ]
    }
  ]
}