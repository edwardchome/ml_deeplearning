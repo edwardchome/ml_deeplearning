{
  "cells": [
    {
      "cell_type": "markdown",
      "metadata": {
        "id": "view-in-github",
        "colab_type": "text"
      },
      "source": [
        "<a href=\"https://colab.research.google.com/github/edwardchome/ml_deeplearning/blob/main/deep_learnin_patterns.ipynb\" target=\"_parent\"><img src=\"https://colab.research.google.com/assets/colab-badge.svg\" alt=\"Open In Colab\"/></a>"
      ]
    },
    {
      "cell_type": "code",
      "execution_count": null,
      "metadata": {
        "colab": {
          "base_uri": "https://localhost:8080/"
        },
        "id": "QNT370z8htrX",
        "outputId": "8894e95e-2d2a-4673-f1d6-8f1e2fe65964"
      },
      "outputs": [
        {
          "data": {
            "text/plain": [
              "<KerasTensor: shape=(None, 13) dtype=float32 (created by layer 'input_1')>"
            ]
          },
          "execution_count": 2,
          "metadata": {},
          "output_type": "execute_result"
        }
      ],
      "source": [
        "from tensorflow.keras import Input\n",
        "\n",
        "Input(shape=(13,))"
      ]
    },
    {
      "cell_type": "markdown",
      "metadata": {
        "id": "cGQ98lKxp-am"
      },
      "source": [
        "**Using Sequential model**"
      ]
    },
    {
      "cell_type": "code",
      "execution_count": null,
      "metadata": {
        "colab": {
          "base_uri": "https://localhost:8080/"
        },
        "id": "3g802DC1jW0u",
        "outputId": "1496aa35-ae0e-4ca7-a348-afe2573cdaa2"
      },
      "outputs": [
        {
          "name": "stdout",
          "output_type": "stream",
          "text": [
            "Model: \"sequential_5\"\n",
            "_________________________________________________________________\n",
            " Layer (type)                Output Shape              Param #   \n",
            "=================================================================\n",
            " dense_33 (Dense)            (None, 10)                140       \n",
            "                                                                 \n",
            " dense_34 (Dense)            (None, 10)                110       \n",
            "                                                                 \n",
            " dense_35 (Dense)            (None, 1)                 11        \n",
            "                                                                 \n",
            "=================================================================\n",
            "Total params: 261\n",
            "Trainable params: 261\n",
            "Non-trainable params: 0\n",
            "_________________________________________________________________\n"
          ]
        }
      ],
      "source": [
        "from tensorflow.keras import Sequential\n",
        "from tensorflow.keras.layers import Dense\n",
        "\n",
        "model = Sequential([\n",
        "                    Dense(10,input_shape=(13,),activation='relu'),\n",
        "                    Dense(10,activation='relu'),\n",
        "                    Dense(1)                    \n",
        "])\n",
        "\n",
        "model.summary()\n",
        "model.compile(loss='mse',optimizer='rmsprop')"
      ]
    },
    {
      "cell_type": "markdown",
      "metadata": {
        "id": "r_qgF6qGqELo"
      },
      "source": [
        "**Using functional api**"
      ]
    },
    {
      "cell_type": "code",
      "execution_count": null,
      "metadata": {
        "colab": {
          "base_uri": "https://localhost:8080/"
        },
        "id": "y8gFcVhJqIDX",
        "outputId": "b52e0c7b-aa34-414d-d74f-489f8a9dc455"
      },
      "outputs": [
        {
          "name": "stdout",
          "output_type": "stream",
          "text": [
            "Model: \"model_6\"\n",
            "_________________________________________________________________\n",
            " Layer (type)                Output Shape              Param #   \n",
            "=================================================================\n",
            " input_8 (InputLayer)        [(None, 13)]              0         \n",
            "                                                                 \n",
            " dense_36 (Dense)            (None, 10)                140       \n",
            "                                                                 \n",
            " dense_37 (Dense)            (None, 10)                110       \n",
            "                                                                 \n",
            " dense_38 (Dense)            (None, 1)                 11        \n",
            "                                                                 \n",
            "=================================================================\n",
            "Total params: 261\n",
            "Trainable params: 261\n",
            "Non-trainable params: 0\n",
            "_________________________________________________________________\n"
          ]
        }
      ],
      "source": [
        "from tensorflow.keras import Input, Model\n",
        "from tensorflow.keras.layers import Dense\n",
        "\n",
        "inputs = Input((13,))\n",
        "input = Dense(10,activation='relu')(inputs)\n",
        "hidden = Dense(10,activation='relu')(input)\n",
        "output = Dense(1)(hidden)\n",
        "\n",
        "model = Model(inputs, output)\n",
        "\n",
        "model.summary()\n",
        "model.compile(loss='mse', optimizer='rmsprop')"
      ]
    },
    {
      "cell_type": "markdown",
      "metadata": {
        "id": "p_Xd2-6e0TW1"
      },
      "source": [
        "**DNN binary classifier**"
      ]
    },
    {
      "cell_type": "markdown",
      "metadata": {
        "id": "AJoZ4o2F2doU"
      },
      "source": [
        "**Sequential api**"
      ]
    },
    {
      "cell_type": "code",
      "execution_count": null,
      "metadata": {
        "colab": {
          "base_uri": "https://localhost:8080/"
        },
        "id": "ilqd3zvt0WFl",
        "outputId": "60959c55-5993-402e-c982-fa896b961069"
      },
      "outputs": [
        {
          "name": "stdout",
          "output_type": "stream",
          "text": [
            "Model: \"sequential_7\"\n",
            "_________________________________________________________________\n",
            " Layer (type)                Output Shape              Param #   \n",
            "=================================================================\n",
            " dense_48 (Dense)            (None, 10)                140       \n",
            "                                                                 \n",
            " dense_49 (Dense)            (None, 10)                110       \n",
            "                                                                 \n",
            " dense_50 (Dense)            (None, 1)                 11        \n",
            "                                                                 \n",
            "=================================================================\n",
            "Total params: 261\n",
            "Trainable params: 261\n",
            "Non-trainable params: 0\n",
            "_________________________________________________________________\n"
          ]
        }
      ],
      "source": [
        "from tensorflow.keras import Sequential\n",
        "from tensorflow.keras.layers import Dense\n",
        "\n",
        "model = Sequential([\n",
        "                    Dense(10,input_shape=(13,),activation='relu'),\n",
        "                    Dense(10,activation='relu'),\n",
        "                    Dense(1,activation='sigmoid')                    \n",
        "])\n",
        "\n",
        "model.summary()\n",
        "model.compile(loss='binary_crossentropy',optimizer='rmsprop',metrics=['accuracy'])"
      ]
    },
    {
      "cell_type": "markdown",
      "metadata": {
        "id": "GASLrsRC2jWL"
      },
      "source": [
        "**functional api**"
      ]
    },
    {
      "cell_type": "code",
      "execution_count": null,
      "metadata": {
        "colab": {
          "base_uri": "https://localhost:8080/"
        },
        "id": "JOh-8xTD2miV",
        "outputId": "4c49dd54-2f8b-40c2-ff1a-34bd5b919684"
      },
      "outputs": [
        {
          "name": "stdout",
          "output_type": "stream",
          "text": [
            "Model: \"model_8\"\n",
            "_________________________________________________________________\n",
            " Layer (type)                Output Shape              Param #   \n",
            "=================================================================\n",
            " input_10 (InputLayer)       [(None, 13)]              0         \n",
            "                                                                 \n",
            " dense_45 (Dense)            (None, 10)                140       \n",
            "                                                                 \n",
            " activation_3 (Activation)   (None, 10)                0         \n",
            "                                                                 \n",
            " dense_46 (Dense)            (None, 10)                110       \n",
            "                                                                 \n",
            " activation_4 (Activation)   (None, 10)                0         \n",
            "                                                                 \n",
            " dense_47 (Dense)            (None, 1)                 11        \n",
            "                                                                 \n",
            " activation_5 (Activation)   (None, 1)                 0         \n",
            "                                                                 \n",
            "=================================================================\n",
            "Total params: 261\n",
            "Trainable params: 261\n",
            "Non-trainable params: 0\n",
            "_________________________________________________________________\n"
          ]
        }
      ],
      "source": [
        "from tensorflow.keras import Model, Input\n",
        "from tensorflow.keras.layers import Dense, ReLU, Activation\n",
        "\n",
        "inputs = Input((13,))\n",
        "x = Dense(10)(inputs)\n",
        "x = Activation('relu')(x)\n",
        "x = Dense(10)(x)\n",
        "x = Activation('relu')(x)\n",
        "x = Dense(1)(x)\n",
        "output = Activation('sigmoid')(x)\n",
        "\n",
        "model = Model(inputs, output)\n",
        "model.compile(loss='binary_crossentropy',optimizer='rmsprop',metrics=['accuracy'])\n",
        "model.summary()"
      ]
    },
    {
      "cell_type": "markdown",
      "metadata": {
        "id": "H_ytLo3UB8ne"
      },
      "source": [
        "**DNN multiclass classifier**"
      ]
    },
    {
      "cell_type": "code",
      "execution_count": null,
      "metadata": {
        "colab": {
          "base_uri": "https://localhost:8080/"
        },
        "id": "Hlzu1Eq3B5MM",
        "outputId": "ddc193f4-a0e6-45a3-c984-242a8be0ca14"
      },
      "outputs": [
        {
          "name": "stdout",
          "output_type": "stream",
          "text": [
            "Model: \"sequential_9\"\n",
            "_________________________________________________________________\n",
            " Layer (type)                Output Shape              Param #   \n",
            "=================================================================\n",
            " dense_51 (Dense)            (None, 10)                50        \n",
            "                                                                 \n",
            " dense_52 (Dense)            (None, 10)                110       \n",
            "                                                                 \n",
            " dense_53 (Dense)            (None, 5)                 55        \n",
            "                                                                 \n",
            "=================================================================\n",
            "Total params: 215\n",
            "Trainable params: 215\n",
            "Non-trainable params: 0\n",
            "_________________________________________________________________\n"
          ]
        }
      ],
      "source": [
        "from tensorflow.keras import Sequential\n",
        "from tensorflow.keras.layers import Dense\n",
        "\n",
        "model = Sequential()\n",
        "model.add(Dense(10, input_shape=(4,), activation='relu'))\n",
        "model.add(Dense(10,activation='relu'))\n",
        "model.add(Dense(5,activation='softmax'))\n",
        "\n",
        "model.compile(loss='categorical_crossentropy', optimizer='adam', metrics=['accuracy'])\n",
        "\n",
        "model.summary()"
      ]
    },
    {
      "cell_type": "markdown",
      "metadata": {
        "id": "enpme-iRFmZX"
      },
      "source": [
        "**DNN multilabel multiclass classifier**\n",
        "\n",
        "We also want to treat each output class as a binary\n",
        "classifier, meaning we want a yes/no type of answer, so we change the activation function\n",
        "to sigmoid. so we use binary cross entropy"
      ]
    },
    {
      "cell_type": "code",
      "execution_count": null,
      "metadata": {
        "colab": {
          "background_save": true,
          "base_uri": "https://localhost:8080/"
        },
        "id": "TmwkCArfFoqR",
        "outputId": "1499bad0-63f4-4ad4-b369-11247f1c309c"
      },
      "outputs": [
        {
          "name": "stdout",
          "output_type": "stream",
          "text": [
            "Model: \"sequential_10\"\n",
            "_________________________________________________________________\n",
            " Layer (type)                Output Shape              Param #   \n",
            "=================================================================\n",
            " dense_54 (Dense)            (None, 10)                40        \n",
            "                                                                 \n",
            " dense_55 (Dense)            (None, 10)                110       \n",
            "                                                                 \n",
            " dense_56 (Dense)            (None, 7)                 77        \n",
            "                                                                 \n",
            "=================================================================\n",
            "Total params: 227\n",
            "Trainable params: 227\n",
            "Non-trainable params: 0\n",
            "_________________________________________________________________\n"
          ]
        }
      ],
      "source": [
        "from tensorflow.keras import Sequential\n",
        "from tensorflow.keras.layers import Dense\n",
        "\n",
        "model = Sequential()\n",
        "model.add(Dense(10, input_shape=(3,), activation='relu'))\n",
        "model.add(Dense(10, activation='relu'))\n",
        "model.add(Dense(7, activation='sigmoid'))\n",
        "\n",
        "model.compile(loss='binary_crossentropy', optimizer='rmsprop',metrics=['accuracy'])\n",
        "\n",
        "model.summary()"
      ]
    },
    {
      "cell_type": "markdown",
      "source": [
        "So which design is correct (or better) for a multilabel multiclass classifier? It depends\n",
        "on the application. If all the classes are from a single category—such as age\n",
        "demographic—use the first pattern, the single task. If the classes come from different\n",
        "categories—such as age demographic and gender—use the second pattern, the\n",
        "multitask. In this example, we use the multitask pattern, because we want to learn two\n",
        "categories as output.\n",
        "\n",
        "![image.png](data:image/png;base64,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)"
      ],
      "metadata": {
        "id": "RpLwwNVkKhCq"
      }
    },
    {
      "cell_type": "code",
      "source": [
        "from tensorflow.keras import Input, Model\n",
        "from tensorflow.keras.layers import Dense\n",
        "\n",
        "inputs = Input((3,))\n",
        "\n",
        "x = Dense(10, activation='relu')(inputs)\n",
        "x = Dense(10, activation='relu')(x)\n",
        "\n",
        "output1 = Dense(5, activation='softmax')(x)\n",
        "output2 = Dense(2, activation='softmax')(x)\n",
        "\n",
        "model = Model(inputs, [output1, output2])\n",
        "\n",
        "model.compile(loss='categorical_crossentropy',\n",
        "optimizer='adam',\n",
        "metrics=['accuracy'])\n",
        "\n",
        "model.summary()"
      ],
      "metadata": {
        "colab": {
          "base_uri": "https://localhost:8080/"
        },
        "id": "dAthfQj0KhtN",
        "outputId": "1becf90d-e84b-4715-c1da-6dfcf0436f9d"
      },
      "execution_count": 24,
      "outputs": [
        {
          "output_type": "stream",
          "name": "stdout",
          "text": [
            "Model: \"model_9\"\n",
            "__________________________________________________________________________________________________\n",
            " Layer (type)                   Output Shape         Param #     Connected to                     \n",
            "==================================================================================================\n",
            " input_11 (InputLayer)          [(None, 3)]          0           []                               \n",
            "                                                                                                  \n",
            " dense_60 (Dense)               (None, 10)           40          ['input_11[0][0]']               \n",
            "                                                                                                  \n",
            " dense_61 (Dense)               (None, 10)           110         ['dense_60[0][0]']               \n",
            "                                                                                                  \n",
            " dense_62 (Dense)               (None, 5)            55          ['dense_61[0][0]']               \n",
            "                                                                                                  \n",
            " dense_63 (Dense)               (None, 2)            22          ['dense_61[0][0]']               \n",
            "                                                                                                  \n",
            "==================================================================================================\n",
            "Total params: 227\n",
            "Trainable params: 227\n",
            "Non-trainable params: 0\n",
            "__________________________________________________________________________________________________\n"
          ]
        }
      ]
    },
    {
      "cell_type": "markdown",
      "source": [
        "**Simple image classifier**"
      ],
      "metadata": {
        "id": "1mj_JHGDOt0J"
      }
    },
    {
      "cell_type": "code",
      "source": [
        "from tensorflow.keras import Sequential\n",
        "from tensorflow.keras.layers import Dense, Flatten, ReLU, Activation\n",
        "\n",
        "model = Sequential()\n",
        "\n",
        "model.add(Flatten(input_shape=(28,28)))\n",
        "model.add(Dense(512, activation='relu'))\n",
        "model.add(Dense(512, activation='relu'))\n",
        "model.add(Dense(10, activation='softmax'))\n",
        "\n",
        "model.compile(loss='categorical_crossentropy',optimizer='adam',metrics=['accuracy'])\n",
        "\n",
        "model.summary()"
      ],
      "metadata": {
        "colab": {
          "base_uri": "https://localhost:8080/"
        },
        "id": "pcl3rSPzOw3r",
        "outputId": "9fe732aa-3693-463d-a35c-6ea1c1d1163a"
      },
      "execution_count": 25,
      "outputs": [
        {
          "output_type": "stream",
          "name": "stdout",
          "text": [
            "Model: \"sequential_12\"\n",
            "_________________________________________________________________\n",
            " Layer (type)                Output Shape              Param #   \n",
            "=================================================================\n",
            " flatten (Flatten)           (None, 784)               0         \n",
            "                                                                 \n",
            " dense_64 (Dense)            (None, 512)               401920    \n",
            "                                                                 \n",
            " dense_65 (Dense)            (None, 512)               262656    \n",
            "                                                                 \n",
            " dense_66 (Dense)            (None, 10)                5130      \n",
            "                                                                 \n",
            "=================================================================\n",
            "Total params: 669,706\n",
            "Trainable params: 669,706\n",
            "Non-trainable params: 0\n",
            "_________________________________________________________________\n"
          ]
        }
      ]
    },
    {
      "cell_type": "markdown",
      "source": [
        "**introducing dropout**"
      ],
      "metadata": {
        "id": "GwDvb8x7Tqme"
      }
    },
    {
      "cell_type": "code",
      "source": [
        "from tensorflow.keras import Sequential\n",
        "from tensorflow.keras.layers import Dense, Flatten, ReLU, Activation, Dropout\n",
        "\n",
        "model = Sequential()\n",
        "\n",
        "model.add(Flatten(input_shape=(28,28)))\n",
        "model.add(Dense(512))\n",
        "model.add(Dropout(0.5))\n",
        "model.add(ReLU())\n",
        "model.add(Dense(512))\n",
        "model.add(Dropout(0.5))\n",
        "model.add(ReLU())\n",
        "model.add(Dense(10))\n",
        "model.add(Activation('softmax'))\n",
        "\n",
        "model.compile(loss='categorical_crossentropy',\n",
        "optimizer='adam',\n",
        "metrics=['accuracy'])\n",
        "\n",
        "model.summary()"
      ],
      "metadata": {
        "colab": {
          "base_uri": "https://localhost:8080/"
        },
        "id": "ojYRyRToTvPW",
        "outputId": "929a2e35-4376-45e7-c0a5-2953519cb30a"
      },
      "execution_count": 26,
      "outputs": [
        {
          "output_type": "stream",
          "name": "stdout",
          "text": [
            "Model: \"sequential_13\"\n",
            "_________________________________________________________________\n",
            " Layer (type)                Output Shape              Param #   \n",
            "=================================================================\n",
            " flatten_1 (Flatten)         (None, 784)               0         \n",
            "                                                                 \n",
            " dense_67 (Dense)            (None, 512)               401920    \n",
            "                                                                 \n",
            " dropout (Dropout)           (None, 512)               0         \n",
            "                                                                 \n",
            " re_lu (ReLU)                (None, 512)               0         \n",
            "                                                                 \n",
            " dense_68 (Dense)            (None, 512)               262656    \n",
            "                                                                 \n",
            " dropout_1 (Dropout)         (None, 512)               0         \n",
            "                                                                 \n",
            " re_lu_1 (ReLU)              (None, 512)               0         \n",
            "                                                                 \n",
            " dense_69 (Dense)            (None, 10)                5130      \n",
            "                                                                 \n",
            " activation_6 (Activation)   (None, 10)                0         \n",
            "                                                                 \n",
            "=================================================================\n",
            "Total params: 669,706\n",
            "Trainable params: 669,706\n",
            "Non-trainable params: 0\n",
            "_________________________________________________________________\n"
          ]
        }
      ]
    },
    {
      "cell_type": "markdown",
      "source": [
        "**The ConvNet design for a CNN**"
      ],
      "metadata": {
        "id": "AEXEEK43wSBu"
      }
    },
    {
      "cell_type": "code",
      "source": [
        "from tensorflow.keras import Sequential\n",
        "from tensorflow.keras.layers import Dense, ReLU, Activation\n",
        "from tensorflow.keras.layers import Conv2D, MaxPooling2D, Flatten\n",
        "\n",
        "model = Sequential()\n",
        "\n",
        "model.add(Conv2D(16,kernel_size=(3,3),strides=(2,2), padding='same', input_shape=(128,128,1)))\n",
        "model.add(ReLU())\n",
        "model.add(MaxPooling2D(pool_size=(2,2),strides=(2,2)))\n",
        "model.add(Flatten())\n",
        "\n",
        "model.add(Dense(512))\n",
        "model.add(ReLU())\n",
        "model.add(Dense(26))\n",
        "model.add(Activation('softmax'))\n",
        "\n",
        "model.compile(loss='categorical_crossentropy',optimizer='adam',metrics=['accuracy'])\n",
        "\n",
        "model.summary()"
      ],
      "metadata": {
        "colab": {
          "base_uri": "https://localhost:8080/"
        },
        "id": "c12gB-KHwUNs",
        "outputId": "2a0d2e9f-8b22-42ce-8ced-cf56641986c8"
      },
      "execution_count": 1,
      "outputs": [
        {
          "output_type": "stream",
          "name": "stdout",
          "text": [
            "Model: \"sequential\"\n",
            "_________________________________________________________________\n",
            " Layer (type)                Output Shape              Param #   \n",
            "=================================================================\n",
            " conv2d (Conv2D)             (None, 64, 64, 16)        160       \n",
            "                                                                 \n",
            " re_lu (ReLU)                (None, 64, 64, 16)        0         \n",
            "                                                                 \n",
            " max_pooling2d (MaxPooling2D  (None, 32, 32, 16)       0         \n",
            " )                                                               \n",
            "                                                                 \n",
            " flatten (Flatten)           (None, 16384)             0         \n",
            "                                                                 \n",
            " dense (Dense)               (None, 512)               8389120   \n",
            "                                                                 \n",
            " re_lu_1 (ReLU)              (None, 512)               0         \n",
            "                                                                 \n",
            " dense_1 (Dense)             (None, 26)                13338     \n",
            "                                                                 \n",
            " activation (Activation)     (None, 26)                0         \n",
            "                                                                 \n",
            "=================================================================\n",
            "Total params: 8,402,618\n",
            "Trainable params: 8,402,618\n",
            "Non-trainable params: 0\n",
            "_________________________________________________________________\n"
          ]
        }
      ]
    },
    {
      "cell_type": "markdown",
      "source": [
        "**Sequential model variation**"
      ],
      "metadata": {
        "id": "BmAdtHtR00G1"
      }
    },
    {
      "cell_type": "code",
      "source": [
        "from tensorflow.keras.models import Sequential\n",
        "from tensorflow.keras.layers import Dense\n",
        "from tensorflow.keras.layers import Conv2D, MaxPooling2D, Flatten\n",
        "\n",
        "model = Sequential()\n",
        "\n",
        "model.add(Conv2D(16, kernel_size=(3, 3), strides=(2, 2), padding=\"same\",activation='relu', input_shape=(128,128, 1)))\n",
        "model.add(MaxPooling2D(pool_size=(2, 2), strides=(2, 2)))\n",
        "model.add(Flatten())\n",
        "model.add(Dense(512, activation='relu'))\n",
        "model.add(Dense(26, activation='softmax'))\n",
        "\n",
        "model.compile(loss='categorical_crossentropy',\n",
        "optimizer='adam',\n",
        "metrics=['accuracy'])"
      ],
      "metadata": {
        "id": "wZH0ZmqQ07XI"
      },
      "execution_count": null,
      "outputs": []
    },
    {
      "cell_type": "markdown",
      "source": [
        "**Using the funtional api**"
      ],
      "metadata": {
        "id": "cWcjCFbE1SlL"
      }
    },
    {
      "cell_type": "code",
      "source": [
        "from tensorflow.keras import Input, Model\n",
        "from tensorflow.keras.layers import Dense\n",
        "from tensorflow.keras.layers import Conv2D, MaxPooling2D, Flatten\n",
        "\n",
        "inputs = Input(shape=(128, 128, 1))\n",
        "layer = Conv2D(16, kernel_size=(3, 3), strides=(2, 2), padding=\"same\",activation='relu')(inputs)\n",
        "layer = MaxPooling2D(pool_size=(2, 2), strides=(2, 2))(layer)\n",
        "layer = Flatten()(layer)\n",
        "layer = Dense(512, activation='relu')(layer)\n",
        "\n",
        "outputs = Dense(26, activation='softmax')(layer)\n",
        "\n",
        "model = Model(inputs, outputs)\n",
        "\n",
        "model.compile(loss='categorical_crossentropy',\n",
        "optimizer='adam',\n",
        "metrics=['accuracy'])\n",
        "\n",
        "model.summary()"
      ],
      "metadata": {
        "colab": {
          "base_uri": "https://localhost:8080/"
        },
        "id": "uTOdnV_v1WXW",
        "outputId": "98e43ea1-6503-4d4a-cf10-72aba982a123"
      },
      "execution_count": 5,
      "outputs": [
        {
          "output_type": "stream",
          "name": "stdout",
          "text": [
            "Model: \"model_3\"\n",
            "_________________________________________________________________\n",
            " Layer (type)                Output Shape              Param #   \n",
            "=================================================================\n",
            " input_4 (InputLayer)        [(None, 128, 128, 1)]     0         \n",
            "                                                                 \n",
            " conv2d_4 (Conv2D)           (None, 64, 64, 16)        160       \n",
            "                                                                 \n",
            " max_pooling2d_4 (MaxPooling  (None, 32, 32, 16)       0         \n",
            " 2D)                                                             \n",
            "                                                                 \n",
            " flatten_4 (Flatten)         (None, 16384)             0         \n",
            "                                                                 \n",
            " dense_8 (Dense)             (None, 512)               8389120   \n",
            "                                                                 \n",
            " dense_9 (Dense)             (None, 26)                13338     \n",
            "                                                                 \n",
            "=================================================================\n",
            "Total params: 8,402,618\n",
            "Trainable params: 8,402,618\n",
            "Non-trainable params: 0\n",
            "_________________________________________________________________\n"
          ]
        }
      ]
    },
    {
      "cell_type": "markdown",
      "source": [
        "**VGG16 Implementation**"
      ],
      "metadata": {
        "id": "zJIo1LMQn9p6"
      }
    },
    {
      "cell_type": "code",
      "source": [
        "from tensorflow.keras import Sequential\n",
        "from tensorflow.keras.layers import Conv2D, MaxPooling2D, Flatten, Dense"
      ],
      "metadata": {
        "id": "2BCvZHCroCbA"
      },
      "execution_count": 1,
      "outputs": []
    },
    {
      "cell_type": "code",
      "source": [
        "def conv_block(n_layers, n_filters):\n",
        "  \"\"\"\n",
        "  n_layers : number of convolutional layers\n",
        "  n_filters: number of filters\n",
        "  \"\"\"\n",
        "  for n in range(n_layers):\n",
        "    model.add(Conv2D(n_filters, (3, 3), strides=(1, 1), padding=\"same\",activation=\"relu\"))\n",
        "\n",
        "  model.add(MaxPooling2D(2, strides=2))"
      ],
      "metadata": {
        "id": "KY9xt4HBozTi"
      },
      "execution_count": 2,
      "outputs": []
    },
    {
      "cell_type": "code",
      "source": [
        "model = Sequential()\n",
        "model.add(Conv2D(64, (3, 3), strides=(1, 1), padding=\"same\",activation=\"relu\",input_shape=(224, 224, 3)))\n",
        "\n",
        "conv_block(1, 64)\n",
        "conv_block(2, 128)\n",
        "conv_block(3, 256)\n",
        "conv_block(3, 512)\n",
        "conv_block(3, 512)\n",
        "\n",
        "model.add(Flatten())\n",
        "\n",
        "model.add(Dense(4096, activation='relu'))\n",
        "model.add(Dense(4096, activation='relu'))\n",
        "model.add(Dense(1000, activation='softmax'))\n",
        "\n",
        "model.compile(loss='categorical_crossentropy',optimizer='adam',metrics=['accuracy'])\n",
        "\n",
        "model.summary()"
      ],
      "metadata": {
        "colab": {
          "base_uri": "https://localhost:8080/"
        },
        "id": "1B1xkI9VovRL",
        "outputId": "80c54119-4540-4cc8-c63c-ac40e32c2114"
      },
      "execution_count": 3,
      "outputs": [
        {
          "output_type": "stream",
          "name": "stdout",
          "text": [
            "Model: \"sequential\"\n",
            "_________________________________________________________________\n",
            " Layer (type)                Output Shape              Param #   \n",
            "=================================================================\n",
            " conv2d (Conv2D)             (None, 224, 224, 64)      1792      \n",
            "                                                                 \n",
            " conv2d_1 (Conv2D)           (None, 224, 224, 64)      36928     \n",
            "                                                                 \n",
            " max_pooling2d (MaxPooling2D  (None, 112, 112, 64)     0         \n",
            " )                                                               \n",
            "                                                                 \n",
            " conv2d_2 (Conv2D)           (None, 112, 112, 128)     73856     \n",
            "                                                                 \n",
            " conv2d_3 (Conv2D)           (None, 112, 112, 128)     147584    \n",
            "                                                                 \n",
            " max_pooling2d_1 (MaxPooling  (None, 56, 56, 128)      0         \n",
            " 2D)                                                             \n",
            "                                                                 \n",
            " conv2d_4 (Conv2D)           (None, 56, 56, 256)       295168    \n",
            "                                                                 \n",
            " conv2d_5 (Conv2D)           (None, 56, 56, 256)       590080    \n",
            "                                                                 \n",
            " conv2d_6 (Conv2D)           (None, 56, 56, 256)       590080    \n",
            "                                                                 \n",
            " max_pooling2d_2 (MaxPooling  (None, 28, 28, 256)      0         \n",
            " 2D)                                                             \n",
            "                                                                 \n",
            " conv2d_7 (Conv2D)           (None, 28, 28, 512)       1180160   \n",
            "                                                                 \n",
            " conv2d_8 (Conv2D)           (None, 28, 28, 512)       2359808   \n",
            "                                                                 \n",
            " conv2d_9 (Conv2D)           (None, 28, 28, 512)       2359808   \n",
            "                                                                 \n",
            " max_pooling2d_3 (MaxPooling  (None, 14, 14, 512)      0         \n",
            " 2D)                                                             \n",
            "                                                                 \n",
            " conv2d_10 (Conv2D)          (None, 14, 14, 512)       2359808   \n",
            "                                                                 \n",
            " conv2d_11 (Conv2D)          (None, 14, 14, 512)       2359808   \n",
            "                                                                 \n",
            " conv2d_12 (Conv2D)          (None, 14, 14, 512)       2359808   \n",
            "                                                                 \n",
            " max_pooling2d_4 (MaxPooling  (None, 7, 7, 512)        0         \n",
            " 2D)                                                             \n",
            "                                                                 \n",
            " flatten (Flatten)           (None, 25088)             0         \n",
            "                                                                 \n",
            " dense (Dense)               (None, 4096)              102764544 \n",
            "                                                                 \n",
            " dense_1 (Dense)             (None, 4096)              16781312  \n",
            "                                                                 \n",
            " dense_2 (Dense)             (None, 1000)              4097000   \n",
            "                                                                 \n",
            "=================================================================\n",
            "Total params: 138,357,544\n",
            "Trainable params: 138,357,544\n",
            "Non-trainable params: 0\n",
            "_________________________________________________________________\n"
          ]
        }
      ]
    }
  ],
  "metadata": {
    "colab": {
      "collapsed_sections": [],
      "name": "deep_learnin_patterns.ipynb",
      "provenance": [],
      "authorship_tag": "ABX9TyPJkRKsXO85gcyxKVZcTyX9",
      "include_colab_link": true
    },
    "kernelspec": {
      "display_name": "Python 3",
      "name": "python3"
    },
    "language_info": {
      "name": "python"
    }
  },
  "nbformat": 4,
  "nbformat_minor": 0
}